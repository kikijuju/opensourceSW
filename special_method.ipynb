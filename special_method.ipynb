{
 "cells": [
  {
   "cell_type": "code",
   "execution_count": 20,
   "id": "0e4de524-4f1c-492b-9de0-75782a9f34fc",
   "metadata": {},
   "outputs": [],
   "source": [
    "import collections\n",
    "\n",
    "Card = collections.namedtuple('Card', ['rank', 'suit'])\n",
    "\n",
    "class FrenchDeck:\n",
    "    ranks = [str(n) for n in range(2, 11)] + list('JQKA')\n",
    "    suits = 'spades diamonds clubs hearts'.split()  \n",
    "    \n",
    "    def __init__(self):\n",
    "        self._cards = [Card(rank, suit) for suit in self.suits for rank in self.ranks]\n",
    "\n",
    "    def __len__(self):\n",
    "        return len(self._cards)\n",
    "\n",
    "    def __getitem__(self, position):\n",
    "        return self._cards[position]"
   ]
  },
  {
   "cell_type": "code",
   "execution_count": 21,
   "id": "d8dc9985-7a44-41fe-8c5d-9c9f9c6b1e36",
   "metadata": {},
   "outputs": [
    {
     "data": {
      "text/plain": [
       "Card(rank='7', suit='diamonds')"
      ]
     },
     "execution_count": 21,
     "metadata": {},
     "output_type": "execute_result"
    }
   ],
   "source": [
    "#예제3\n",
    "beer_card = Card('7', 'diamonds')\n",
    "beer_card"
   ]
  },
  {
   "cell_type": "code",
   "execution_count": 22,
   "id": "7f37d27d-2879-4cf4-a34e-8f712186c96b",
   "metadata": {},
   "outputs": [
    {
     "name": "stdout",
     "output_type": "stream",
     "text": [
      "Ranks: ['2', '3', '4', '5', '6', '7', '8', '9', '10', 'J', 'Q', 'K', 'A']\n",
      "len: 52\n"
     ]
    }
   ],
   "source": [
    "deck = FrenchDeck()\n",
    "print(f\"Ranks: {deck.ranks}\")\n",
    "print(f\"len: {len(deck)}\")"
   ]
  },
  {
   "cell_type": "code",
   "execution_count": 23,
   "id": "ecc4862c-de97-46e1-9341-40461d6066cc",
   "metadata": {},
   "outputs": [
    {
     "name": "stdout",
     "output_type": "stream",
     "text": [
      "Card(rank='2', suit='spades')\n",
      "Card(rank='A', suit='hearts')\n"
     ]
    }
   ],
   "source": [
    "#예제5\n",
    "print(deck[0])\n",
    "print(deck[-1])"
   ]
  },
  {
   "cell_type": "code",
   "execution_count": 26,
   "id": "33e38ccc-dded-4e5f-a756-4488e9591f4c",
   "metadata": {},
   "outputs": [
    {
     "name": "stdout",
     "output_type": "stream",
     "text": [
      "Card(rank='3', suit='diamonds')\n",
      "Card(rank='A', suit='diamonds')\n",
      "Card(rank='2', suit='spades')\n"
     ]
    }
   ],
   "source": [
    "#예제6\n",
    "from random import choice\n",
    "print(choice(deck))\n",
    "print(choice(deck))\n",
    "print(choice(deck))"
   ]
  },
  {
   "cell_type": "code",
   "execution_count": 27,
   "id": "f12fdd06-0356-4c0a-97ac-4629461634c0",
   "metadata": {},
   "outputs": [
    {
     "data": {
      "text/plain": [
       "[Card(rank='2', suit='spades'),\n",
       " Card(rank='3', suit='spades'),\n",
       " Card(rank='4', suit='spades')]"
      ]
     },
     "execution_count": 27,
     "metadata": {},
     "output_type": "execute_result"
    }
   ],
   "source": [
    "#예제7\n",
    "deck[:3]"
   ]
  },
  {
   "cell_type": "code",
   "execution_count": 28,
   "id": "dcffb221-a833-48e4-a0c3-44bef60c8952",
   "metadata": {},
   "outputs": [
    {
     "data": {
      "text/plain": [
       "[Card(rank='A', suit='spades'),\n",
       " Card(rank='A', suit='diamonds'),\n",
       " Card(rank='A', suit='clubs'),\n",
       " Card(rank='A', suit='hearts')]"
      ]
     },
     "execution_count": 28,
     "metadata": {},
     "output_type": "execute_result"
    }
   ],
   "source": [
    "#예제8\n",
    "deck[12::13]"
   ]
  },
  {
   "cell_type": "code",
   "execution_count": 30,
   "id": "216c6e1e-3dc7-473f-8243-babc95f926da",
   "metadata": {},
   "outputs": [
    {
     "name": "stdout",
     "output_type": "stream",
     "text": [
      "Card(rank='2', suit='spades')\n",
      "Card(rank='3', suit='spades')\n",
      "Card(rank='4', suit='spades')\n",
      "Card(rank='5', suit='spades')\n",
      "Card(rank='6', suit='spades')\n",
      "Card(rank='7', suit='spades')\n",
      "Card(rank='8', suit='spades')\n",
      "Card(rank='9', suit='spades')\n",
      "Card(rank='10', suit='spades')\n",
      "Card(rank='J', suit='spades')\n",
      "Card(rank='Q', suit='spades')\n",
      "Card(rank='K', suit='spades')\n",
      "Card(rank='A', suit='spades')\n",
      "Card(rank='2', suit='diamonds')\n",
      "Card(rank='3', suit='diamonds')\n",
      "Card(rank='4', suit='diamonds')\n",
      "Card(rank='5', suit='diamonds')\n",
      "Card(rank='6', suit='diamonds')\n",
      "Card(rank='7', suit='diamonds')\n",
      "Card(rank='8', suit='diamonds')\n",
      "Card(rank='9', suit='diamonds')\n",
      "Card(rank='10', suit='diamonds')\n",
      "Card(rank='J', suit='diamonds')\n",
      "Card(rank='Q', suit='diamonds')\n",
      "Card(rank='K', suit='diamonds')\n",
      "Card(rank='A', suit='diamonds')\n",
      "Card(rank='2', suit='clubs')\n",
      "Card(rank='3', suit='clubs')\n",
      "Card(rank='4', suit='clubs')\n",
      "Card(rank='5', suit='clubs')\n",
      "Card(rank='6', suit='clubs')\n",
      "Card(rank='7', suit='clubs')\n",
      "Card(rank='8', suit='clubs')\n",
      "Card(rank='9', suit='clubs')\n",
      "Card(rank='10', suit='clubs')\n",
      "Card(rank='J', suit='clubs')\n",
      "Card(rank='Q', suit='clubs')\n",
      "Card(rank='K', suit='clubs')\n",
      "Card(rank='A', suit='clubs')\n",
      "Card(rank='2', suit='hearts')\n",
      "Card(rank='3', suit='hearts')\n",
      "Card(rank='4', suit='hearts')\n",
      "Card(rank='5', suit='hearts')\n",
      "Card(rank='6', suit='hearts')\n",
      "Card(rank='7', suit='hearts')\n",
      "Card(rank='8', suit='hearts')\n",
      "Card(rank='9', suit='hearts')\n",
      "Card(rank='10', suit='hearts')\n",
      "Card(rank='J', suit='hearts')\n",
      "Card(rank='Q', suit='hearts')\n",
      "Card(rank='K', suit='hearts')\n",
      "Card(rank='A', suit='hearts')\n"
     ]
    }
   ],
   "source": [
    "#예제9\n",
    "for card in deck:\n",
    "    print(card)"
   ]
  },
  {
   "cell_type": "code",
   "execution_count": 31,
   "id": "7feb76c0-2261-4c75-8cce-5aceaf6c385f",
   "metadata": {},
   "outputs": [
    {
     "name": "stdout",
     "output_type": "stream",
     "text": [
      "Card(rank='A', suit='hearts')\n",
      "Card(rank='K', suit='hearts')\n",
      "Card(rank='Q', suit='hearts')\n",
      "Card(rank='J', suit='hearts')\n",
      "Card(rank='10', suit='hearts')\n",
      "Card(rank='9', suit='hearts')\n",
      "Card(rank='8', suit='hearts')\n",
      "Card(rank='7', suit='hearts')\n",
      "Card(rank='6', suit='hearts')\n",
      "Card(rank='5', suit='hearts')\n",
      "Card(rank='4', suit='hearts')\n",
      "Card(rank='3', suit='hearts')\n",
      "Card(rank='2', suit='hearts')\n",
      "Card(rank='A', suit='clubs')\n",
      "Card(rank='K', suit='clubs')\n",
      "Card(rank='Q', suit='clubs')\n",
      "Card(rank='J', suit='clubs')\n",
      "Card(rank='10', suit='clubs')\n",
      "Card(rank='9', suit='clubs')\n",
      "Card(rank='8', suit='clubs')\n",
      "Card(rank='7', suit='clubs')\n",
      "Card(rank='6', suit='clubs')\n",
      "Card(rank='5', suit='clubs')\n",
      "Card(rank='4', suit='clubs')\n",
      "Card(rank='3', suit='clubs')\n",
      "Card(rank='2', suit='clubs')\n",
      "Card(rank='A', suit='diamonds')\n",
      "Card(rank='K', suit='diamonds')\n",
      "Card(rank='Q', suit='diamonds')\n",
      "Card(rank='J', suit='diamonds')\n",
      "Card(rank='10', suit='diamonds')\n",
      "Card(rank='9', suit='diamonds')\n",
      "Card(rank='8', suit='diamonds')\n",
      "Card(rank='7', suit='diamonds')\n",
      "Card(rank='6', suit='diamonds')\n",
      "Card(rank='5', suit='diamonds')\n",
      "Card(rank='4', suit='diamonds')\n",
      "Card(rank='3', suit='diamonds')\n",
      "Card(rank='2', suit='diamonds')\n",
      "Card(rank='A', suit='spades')\n",
      "Card(rank='K', suit='spades')\n",
      "Card(rank='Q', suit='spades')\n",
      "Card(rank='J', suit='spades')\n",
      "Card(rank='10', suit='spades')\n",
      "Card(rank='9', suit='spades')\n",
      "Card(rank='8', suit='spades')\n",
      "Card(rank='7', suit='spades')\n",
      "Card(rank='6', suit='spades')\n",
      "Card(rank='5', suit='spades')\n",
      "Card(rank='4', suit='spades')\n",
      "Card(rank='3', suit='spades')\n",
      "Card(rank='2', suit='spades')\n"
     ]
    }
   ],
   "source": [
    "#예제10\n",
    "for card in reversed(deck):\n",
    "    print(card)"
   ]
  },
  {
   "cell_type": "code",
   "execution_count": 37,
   "id": "cd18fb47-bff3-4879-aba0-39557e0f6821",
   "metadata": {},
   "outputs": [
    {
     "name": "stdout",
     "output_type": "stream",
     "text": [
      "The rank of Card(rank='2', suit='clubs') is 0.\n",
      "The rank of Card(rank='2', suit='diamonds') is 1.\n",
      "The rank of Card(rank='2', suit='hearts') is 2.\n",
      "The rank of Card(rank='2', suit='spades') is 3.\n",
      "The rank of Card(rank='3', suit='clubs') is 4.\n",
      "The rank of Card(rank='3', suit='diamonds') is 5.\n",
      "The rank of Card(rank='3', suit='hearts') is 6.\n",
      "The rank of Card(rank='3', suit='spades') is 7.\n",
      "The rank of Card(rank='4', suit='clubs') is 8.\n",
      "The rank of Card(rank='4', suit='diamonds') is 9.\n",
      "The rank of Card(rank='4', suit='hearts') is 10.\n",
      "The rank of Card(rank='4', suit='spades') is 11.\n",
      "The rank of Card(rank='5', suit='clubs') is 12.\n",
      "The rank of Card(rank='5', suit='diamonds') is 13.\n",
      "The rank of Card(rank='5', suit='hearts') is 14.\n",
      "The rank of Card(rank='5', suit='spades') is 15.\n",
      "The rank of Card(rank='6', suit='clubs') is 16.\n",
      "The rank of Card(rank='6', suit='diamonds') is 17.\n",
      "The rank of Card(rank='6', suit='hearts') is 18.\n",
      "The rank of Card(rank='6', suit='spades') is 19.\n",
      "The rank of Card(rank='7', suit='clubs') is 20.\n",
      "The rank of Card(rank='7', suit='diamonds') is 21.\n",
      "The rank of Card(rank='7', suit='hearts') is 22.\n",
      "The rank of Card(rank='7', suit='spades') is 23.\n",
      "The rank of Card(rank='8', suit='clubs') is 24.\n",
      "The rank of Card(rank='8', suit='diamonds') is 25.\n",
      "The rank of Card(rank='8', suit='hearts') is 26.\n",
      "The rank of Card(rank='8', suit='spades') is 27.\n",
      "The rank of Card(rank='9', suit='clubs') is 28.\n",
      "The rank of Card(rank='9', suit='diamonds') is 29.\n",
      "The rank of Card(rank='9', suit='hearts') is 30.\n",
      "The rank of Card(rank='9', suit='spades') is 31.\n",
      "The rank of Card(rank='10', suit='clubs') is 32.\n",
      "The rank of Card(rank='10', suit='diamonds') is 33.\n",
      "The rank of Card(rank='10', suit='hearts') is 34.\n",
      "The rank of Card(rank='10', suit='spades') is 35.\n",
      "The rank of Card(rank='J', suit='clubs') is 36.\n",
      "The rank of Card(rank='J', suit='diamonds') is 37.\n",
      "The rank of Card(rank='J', suit='hearts') is 38.\n",
      "The rank of Card(rank='J', suit='spades') is 39.\n",
      "The rank of Card(rank='Q', suit='clubs') is 40.\n",
      "The rank of Card(rank='Q', suit='diamonds') is 41.\n",
      "The rank of Card(rank='Q', suit='hearts') is 42.\n",
      "The rank of Card(rank='Q', suit='spades') is 43.\n",
      "The rank of Card(rank='K', suit='clubs') is 44.\n",
      "The rank of Card(rank='K', suit='diamonds') is 45.\n",
      "The rank of Card(rank='K', suit='hearts') is 46.\n",
      "The rank of Card(rank='K', suit='spades') is 47.\n",
      "The rank of Card(rank='A', suit='clubs') is 48.\n",
      "The rank of Card(rank='A', suit='diamonds') is 49.\n",
      "The rank of Card(rank='A', suit='hearts') is 50.\n",
      "The rank of Card(rank='A', suit='spades') is 51.\n"
     ]
    }
   ],
   "source": [
    "#예제11\n",
    "suit_values = dict(spades=3, hearts=2, diamonds=1, clubs=0)\n",
    "\n",
    "def spades_high(card):\n",
    "    rank_value = FrenchDeck.ranks.index(card.rank)\n",
    "    return rank_value * len(suit_values) + suit_values[card.suit]\n",
    "\n",
    "spades_high(beer_card)\n",
    "\n",
    "for card in sorted(deck, key=spades_high):\n",
    "    print('The rank of {} is {}.'.format(card, spades_high(card)))"
   ]
  },
  {
   "cell_type": "code",
   "execution_count": 46,
   "id": "26fbeab6-7d8b-4a78-9afa-0ed9a37c78d4",
   "metadata": {},
   "outputs": [
    {
     "name": "stdout",
     "output_type": "stream",
     "text": [
      "5.0\n",
      "15.0\n",
      "Vector(4, 5)\n"
     ]
    }
   ],
   "source": [
    "#에제12\n",
    "import math\n",
    "\n",
    "class Vector:\n",
    "    def __init__(self, x=0, y=0):\n",
    "        self.x = x\n",
    "        self.y = y\n",
    "\n",
    "    def __repr__(self):\n",
    "        return 'Vector(%r, %r)' % (self.x, self.y)\n",
    "\n",
    "    def __abs__(self):\n",
    "        return math.hypot(self.x, self.y)\n",
    "\n",
    "    def __bool__(self):\n",
    "        return bool(abs(self))\n",
    "\n",
    "    def __add__(self, other):\n",
    "        x = self.x + other.x\n",
    "        y = self.y + other.y\n",
    "        return Vector(x, y)\n",
    "\n",
    "    def __mul__(self, scalar):\n",
    "        return Vector(self.x * scalar, self.y * scalar)  # 오타 수정\n",
    "\n",
    "v = Vector(3, 4)\n",
    "print(abs(v))\n",
    "print(abs(v * 3))\n",
    "\n",
    "v1 = Vector(2,4)\n",
    "v2 = Vector(2,1)\n",
    "print(v1 + v2)"
   ]
  },
  {
   "cell_type": "code",
   "execution_count": 50,
   "id": "cb530236-4e9a-474a-a850-cd3d26fd3f00",
   "metadata": {},
   "outputs": [
    {
     "data": {
      "text/plain": [
       "(repr test, 'str test')"
      ]
     },
     "execution_count": 50,
     "metadata": {},
     "output_type": "execute_result"
    }
   ],
   "source": [
    "#에제14\n",
    "class Test:\n",
    "    def __repr__(self):\n",
    "        return \"repr test\"\n",
    "\n",
    "    def __str__(self):\n",
    "        return \"str test\"\n",
    "\n",
    "# 객체 생성 및 출력\n",
    "test = Test()\n",
    "test, str(test)"
   ]
  },
  {
   "cell_type": "code",
   "execution_count": 52,
   "id": "ee0fe7a5-6f22-4ef4-a150-18b592323488",
   "metadata": {},
   "outputs": [
    {
     "name": "stdout",
     "output_type": "stream",
     "text": [
      "str test\n"
     ]
    }
   ],
   "source": [
    "#예제15\n",
    "\n",
    "print(str(test))"
   ]
  },
  {
   "cell_type": "code",
   "execution_count": null,
   "id": "3c34db16-3dda-4dd7-afed-18a8a17ef999",
   "metadata": {},
   "outputs": [],
   "source": []
  }
 ],
 "metadata": {
  "kernelspec": {
   "display_name": "Python 3 (ipykernel)",
   "language": "python",
   "name": "python3"
  },
  "language_info": {
   "codemirror_mode": {
    "name": "ipython",
    "version": 3
   },
   "file_extension": ".py",
   "mimetype": "text/x-python",
   "name": "python",
   "nbconvert_exporter": "python",
   "pygments_lexer": "ipython3",
   "version": "3.11.7"
  }
 },
 "nbformat": 4,
 "nbformat_minor": 5
}
