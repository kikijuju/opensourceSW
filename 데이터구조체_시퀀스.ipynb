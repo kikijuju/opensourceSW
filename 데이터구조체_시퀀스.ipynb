{
  "nbformat": 4,
  "nbformat_minor": 0,
  "metadata": {
    "colab": {
      "provenance": []
    },
    "kernelspec": {
      "name": "python3",
      "display_name": "Python 3"
    },
    "language_info": {
      "name": "python"
    }
  },
  "cells": [
    {
      "cell_type": "code",
      "execution_count": 1,
      "metadata": {
        "colab": {
          "base_uri": "https://localhost:8080/"
        },
        "id": "zOb7zodGt5_Z",
        "outputId": "03de5636-4520-4723-f2e4-cee94c58bf7f"
      },
      "outputs": [
        {
          "output_type": "stream",
          "name": "stdout",
          "text": [
            "[36, 42, 38, 33, 64]\n",
            "[36, 42, 38, 33, 64]\n"
          ]
        }
      ],
      "source": [
        "#예제1 문자열에서 유니코드 코드 포인트 리스트 만들기 V1\n",
        "symbols = \"$*&!@\"\n",
        "codes = []\n",
        "\n",
        "for symbol in symbols:\n",
        "    codes.append(ord(symbol))\n",
        "\n",
        "print(codes)\n",
        "\n",
        "#예제2 문자열에서 유니코드 코드 포인트 리스트 만들기 V2\n",
        "symbols = \"$*&!@\"\n",
        "codes = [ord(symbol) for symbol in symbols]\n",
        "\n",
        "print(codes)"
      ]
    },
    {
      "cell_type": "code",
      "source": [
        "#예제3 지능형 리스트 지역 변수와 주변 변수 구분 예제\n",
        "x = '\"!~$$*&!@'\n",
        "dummy = [ord(x) for x in x]\n",
        "print(x)\n",
        "print(dummy)\n",
        "\n",
        "#예제4 지능형 리스트로 만든 리스트\n",
        "symbols = '\"!~$$*&!@'\n",
        "beyond_ascii = [ord(s) for s in symbols if ord(s) > 32]\n",
        "print(beyond_ascii)\n",
        "\n",
        "#예제5 map()/filter()로 만든 리스트\n",
        "symbols = '\"!~$$*&!@'\n",
        "beyond_ascii = list(filter(lambda c: c > 64, map(ord, symbols)))\n",
        "\n",
        "print(beyond_ascii, '\\n')\n",
        "\n",
        "print(f\"Map function:\\n>>> {map(ord, symbols)}\")\n",
        "print(f\"List after map:\\n>>> {list(map(ord, symbols))}\")\n",
        "\n",
        "#예제6 지능형 리스트를 이용한 데카르트 곱\n",
        "colors = ['black', 'white']\n",
        "sizes = ['S', 'M', 'L']\n",
        "tshirt  = [(color, size) for color in colors for size in sizes]\n",
        "\n",
        "print(tshirt)\n",
        "\n",
        "for color in colors:\n",
        "  for size in sizes:\n",
        "    print((color, size))"
      ],
      "metadata": {
        "colab": {
          "base_uri": "https://localhost:8080/"
        },
        "id": "WQaVfcJUuQoJ",
        "outputId": "3bbfa629-8b42-469b-dbfc-87a619314a02"
      },
      "execution_count": 9,
      "outputs": [
        {
          "output_type": "stream",
          "name": "stdout",
          "text": [
            "\"!~$$*&!@\n",
            "[34, 33, 126, 36, 36, 42, 38, 33, 64]\n",
            "[34, 33, 126, 36, 36, 42, 38, 33, 64]\n",
            "[126] \n",
            "\n",
            "Map function:\n",
            ">>> <map object at 0x7e40d8eff730>\n",
            "List after map:\n",
            ">>> [34, 33, 126, 36, 36, 42, 38, 33, 64]\n",
            "[('black', 'S'), ('black', 'M'), ('black', 'L'), ('white', 'S'), ('white', 'M'), ('white', 'L')]\n",
            "('black', 'S')\n",
            "('black', 'M')\n",
            "('black', 'L')\n",
            "('white', 'S')\n",
            "('white', 'M')\n",
            "('white', 'L')\n"
          ]
        }
      ]
    },
    {
      "cell_type": "code",
      "source": [
        "#예제7 제너레이터 표현식\n",
        "import array\n",
        "\n",
        "symbols = \"!#^&&#\"\n",
        "ord_s = tuple(ord(s) for s in symbols if ord(s))\n",
        "\n",
        "print(ord_s)\n",
        "\n",
        "ord_s = array.array('I', [ord(symbol) for symbol in symbols])\n",
        "\n",
        "print(ord_s)\n",
        "\n",
        "#예제8 제너레이터 표현식에서의 데카르트 곱\n",
        "colors = ['black', 'white']\n",
        "sizes = ['S', 'M', 'L']\n",
        "\n",
        "for tshirt in ('{} {}'.format(c, s) for s in sizes for c in colors):\n",
        "  print(tshirt)\n"
      ],
      "metadata": {
        "colab": {
          "base_uri": "https://localhost:8080/"
        },
        "id": "AOHLkW12yN-T",
        "outputId": "cce5cbb7-d12a-4e54-db57-634e874c9116"
      },
      "execution_count": 8,
      "outputs": [
        {
          "output_type": "stream",
          "name": "stdout",
          "text": [
            "(33, 35, 94, 38, 38, 35)\n",
            "array('I', [33, 35, 94, 38, 38, 35])\n",
            "black S\n",
            "white S\n",
            "black M\n",
            "white M\n",
            "black L\n",
            "white L\n"
          ]
        }
      ]
    },
    {
      "cell_type": "code",
      "source": [
        "#에제9. 레코드로 사용된 튜플\n",
        "lax_coordinates = (33.9425, -118.408056)\n",
        "city, year, pop, chg, area = ('Tokyo', 2003, 32450, 0.66, 8014)\n",
        "traveler_ids = [('USA', '31195855'),\n",
        "                ('BRA', 'CE342567'),\n",
        "                ('ESP', 'XDA205856')]\n",
        "\n",
        "for passport in sorted(traveler_ids):\n",
        "  print('%s/%s' % passport)\n",
        "  print('{}/{}'.format(passport[0], passport[1]))\n",
        "  print(f'{passport[0]}/{passport[1]}')\n",
        "\n",
        "#예제10. 레코드로 사용된 튜플2\n",
        "for country, _ in traveler_ids:\n",
        "  print(country)"
      ],
      "metadata": {
        "colab": {
          "base_uri": "https://localhost:8080/"
        },
        "id": "SBRZsJDzy81N",
        "outputId": "ff4be757-a15c-4b3f-ee44-0f3d4aee5acf"
      },
      "execution_count": 11,
      "outputs": [
        {
          "output_type": "stream",
          "name": "stdout",
          "text": [
            "BRA/CE342567\n",
            "BRA/CE342567\n",
            "BRA/CE342567\n",
            "ESP/XDA205856\n",
            "ESP/XDA205856\n",
            "ESP/XDA205856\n",
            "USA/31195855\n",
            "USA/31195855\n",
            "USA/31195855\n",
            "USA\n",
            "BRA\n",
            "ESP\n"
          ]
        }
      ]
    },
    {
      "cell_type": "code",
      "source": [
        "#예제11. 튜플 병렬 할당\n",
        "lax_coordinates = (33.9425, -118.408056)\n",
        "latitude, longitude = lax_coordinates\n",
        "print(latitude)\n",
        "print(longitude)\n",
        "\n",
        "#예제12. 튜플 병렬 할당(swap)\n",
        "a=10; b=20\n",
        "b, a = a, b\n",
        "print(a, b)"
      ],
      "metadata": {
        "colab": {
          "base_uri": "https://localhost:8080/"
        },
        "id": "TOyDrJv_1Fz4",
        "outputId": "b00fae61-0469-4f3d-e549-bd4945ad7eab"
      },
      "execution_count": 13,
      "outputs": [
        {
          "output_type": "stream",
          "name": "stdout",
          "text": [
            "33.9425\n",
            "-118.408056\n",
            "20 10\n"
          ]
        }
      ]
    },
    {
      "cell_type": "code",
      "source": [
        "#예제13. 튜플 변렬 할당(함수 인수 전달)\n",
        "print(divmod(20, 8))\n",
        "\n",
        "t = (20, 8)\n",
        "print(divmod(*t))\n",
        "\n",
        "quotient, remainder = divmod(*t)\n",
        "print(quotient, remainder)"
      ],
      "metadata": {
        "colab": {
          "base_uri": "https://localhost:8080/"
        },
        "id": "8VYlBmNq3GLe",
        "outputId": "51ce4e8d-d5c2-48ca-f935-b9ecc94b0794"
      },
      "execution_count": 14,
      "outputs": [
        {
          "output_type": "stream",
          "name": "stdout",
          "text": [
            "(2, 4)\n",
            "(2, 4)\n",
            "2 4\n"
          ]
        }
      ]
    },
    {
      "cell_type": "code",
      "source": [
        "#예제14. 파일시스템 경로에서 경로명과 파일명 추출\n",
        "import os\n",
        "_, filename = os.path.split('/home/luciano/.ssh/idrsa.pub')\n",
        "print(filename)"
      ],
      "metadata": {
        "colab": {
          "base_uri": "https://localhost:8080/"
        },
        "id": "oD7wEv7o2Hmn",
        "outputId": "2f0a6a89-7db9-47bb-e125-66aeacd4c139"
      },
      "execution_count": 15,
      "outputs": [
        {
          "output_type": "stream",
          "name": "stdout",
          "text": [
            "idrsa.pub\n"
          ]
        }
      ]
    },
    {
      "cell_type": "code",
      "source": [
        "#예제15. *사용으로 병렬 할당 언패킹1\n",
        "a, b, *rest = range(5)\n",
        "print(a, b, rest)\n",
        "\n",
        "a, b, *rest = range(3)\n",
        "print(a, b, rest)\n",
        "\n",
        "a, b, *rest = range(2)\n",
        "print(a, b, rest)\n"
      ],
      "metadata": {
        "colab": {
          "base_uri": "https://localhost:8080/"
        },
        "id": "ZIamRaaG3Q4x",
        "outputId": "e9cb950e-dfc2-41e3-d621-d8db6e49b824"
      },
      "execution_count": 17,
      "outputs": [
        {
          "output_type": "stream",
          "name": "stdout",
          "text": [
            "0 1 [2, 3, 4]\n",
            "0 1 [2]\n",
            "0 1 []\n"
          ]
        }
      ]
    },
    {
      "cell_type": "code",
      "source": [
        "#예제16 *사용으로 병렬 할당 언패킹2\n",
        "a, *body, c, d = range(5)\n",
        "print(a, body, c, d)\n",
        "\n",
        "*head, b, c, d = range(5)\n",
        "print(head, b, c, d)"
      ],
      "metadata": {
        "colab": {
          "base_uri": "https://localhost:8080/"
        },
        "id": "weih8vWF3cqY",
        "outputId": "88cb7fcd-6a3d-4496-b555-e0ad9b94cb7b"
      },
      "execution_count": 18,
      "outputs": [
        {
          "output_type": "stream",
          "name": "stdout",
          "text": [
            "0 [1, 2] 3 4\n",
            "[0, 1] 2 3 4\n"
          ]
        }
      ]
    },
    {
      "cell_type": "code",
      "source": [
        "#예제17. longitude에 접근하기 위해 내포된 튜플 언패킹\n",
        "metro_areas = [\n",
        "    ('Tokyo', 'JP', 36.933, (35, 139)),\n",
        "    ('Delhi NCR', 'IN', 21, (28, 77)),\n",
        "    ('Mexico City', 'MX', 20, (19, -99)),\n",
        "    ('New York-Newark', 'US', 20, (40, -74)),\n",
        "    ('Sao Paulo', 'BR', 19, (-23, -46))\n",
        "]\n",
        "\n",
        "print('{:15} | {:^9} | {:^9}'.format('', 'lat.', 'long.'))\n",
        "fmt = '{:15} | {:9.4f} | {:9.4f}'\n",
        "\n",
        "for name, cc, pop, (lat, longi) in metro_areas:\n",
        "  if longi <= 0:\n",
        "    print(fmt.format(name, lat, longi))"
      ],
      "metadata": {
        "colab": {
          "base_uri": "https://localhost:8080/"
        },
        "id": "ee3WkuVR3_96",
        "outputId": "f52e476c-dfb6-4693-d134-fe66c569b48d"
      },
      "execution_count": 21,
      "outputs": [
        {
          "output_type": "stream",
          "name": "stdout",
          "text": [
            "                |   lat.    |   long.  \n",
            "Mexico City     |   19.0000 |  -99.0000\n",
            "New York-Newark |   40.0000 |  -74.0000\n",
            "Sao Paulo       |  -23.0000 |  -46.0000\n"
          ]
        }
      ]
    },
    {
      "cell_type": "code",
      "source": [
        "#예제18. 명명된 튜플형을 정의하고 사용하기\n",
        "from collections import namedtuple\n",
        "City = namedtuple('City', 'name country population coordinates')\n",
        "tokyo = City('Tokyo', 'JP', 36.933, (35.689, 139,691))\n",
        "print(tokyo)\n",
        "print(tokyo.population)\n",
        "print(tokyo.coordinates)\n",
        "print(tokyo[1])\n",
        "\n",
        "#예제19\n",
        "print(City._fields)\n",
        "\n",
        "LatLong = namedtuple('LatLong', 'lat long')\n",
        "delhi_data = ('Delhi NCR', 'IN', 21.935, LatLong(28.613, 77.208\n",
        "                                                 ))\n",
        "delhi = City._make(delhi_data)\n",
        "print(delhi._asdict())\n",
        "\n",
        "for key, value in delhi._asdict().items():\n",
        "  print(key + ':', value)"
      ],
      "metadata": {
        "colab": {
          "base_uri": "https://localhost:8080/"
        },
        "id": "aOqlrZqm4r0x",
        "outputId": "f5326e62-77ba-433d-a278-5864f498dfaa"
      },
      "execution_count": 23,
      "outputs": [
        {
          "output_type": "stream",
          "name": "stdout",
          "text": [
            "City(name='Tokyo', country='JP', population=36.933, coordinates=(35.689, 139, 691))\n",
            "36.933\n",
            "(35.689, 139, 691)\n",
            "JP\n",
            "('name', 'country', 'population', 'coordinates')\n",
            "{'name': 'Delhi NCR', 'country': 'IN', 'population': 21.935, 'coordinates': LatLong(lat=28.613, long=77.208)}\n",
            "name: Delhi NCR\n",
            "country: IN\n",
            "population: 21.935\n",
            "coordinates: LatLong(lat=28.613, long=77.208)\n"
          ]
        }
      ]
    },
    {
      "cell_type": "code",
      "source": [
        "#예제20. 슬라이싱 예제\n",
        "l = [10, 20, 30, 40, 50, 60]\n",
        "print(l[:2])\n",
        "print(l[2:])\n",
        "print(l[:3])\n",
        "print(l[3:])"
      ],
      "metadata": {
        "colab": {
          "base_uri": "https://localhost:8080/"
        },
        "id": "wh1C7BFR5IlG",
        "outputId": "85c04ee4-f9f7-4dfc-9797-6b191859080d"
      },
      "execution_count": 24,
      "outputs": [
        {
          "output_type": "stream",
          "name": "stdout",
          "text": [
            "[10, 20]\n",
            "[30, 40, 50, 60]\n",
            "[10, 20, 30]\n",
            "[40, 50, 60]\n"
          ]
        }
      ]
    },
    {
      "cell_type": "code",
      "source": [
        "#예제21. 단순 텍스트 파일 청구서의 행 항목들\n",
        "invoice = \"\"\"\n",
        "0.....6..................25.........33......40.......\n",
        "1909  Pimoroni              $17.50     3     $52.50\n",
        "1489  6mm Tactile           $4.95      2     $9.90\n",
        "\"\"\"\n",
        "\n",
        "SKU = slice(0, 6)\n",
        "DESCRIPTION = slice(6, 40)\n",
        "UNIT_PRICE = slice(40, 52)\n",
        "QUANTITY = slice(52, 55)\n",
        "ITEM_TOTAL = slice(55, None)\n",
        "\n",
        "line_items = invoice.split('\\n')[2:]\n",
        "\n",
        "for item in line_items:\n",
        "  print(item[UNIT_PRICE], item[DESCRIPTION])"
      ],
      "metadata": {
        "colab": {
          "base_uri": "https://localhost:8080/"
        },
        "id": "crHDznOU6qtk",
        "outputId": "1009142f-6a78-411a-d1de-849a3d263eeb"
      },
      "execution_count": 29,
      "outputs": [
        {
          "output_type": "stream",
          "name": "stdout",
          "text": [
            "     $52.50 Pimoroni              $17.50     3\n",
            "     $9.90 6mm Tactile           $4.95      2\n",
            " \n"
          ]
        }
      ]
    },
    {
      "cell_type": "code",
      "source": [
        "#예제22. 가변 시퀀스 변형\n",
        "l = list(range(10))\n",
        "print(l)\n",
        "\n",
        "l[2:5] = [20, 30]\n",
        "print(l)\n",
        "\n",
        "del l[5:7]\n",
        "print(l)\n",
        "\n",
        "l[3::2] = [11, 22]\n",
        "print(l)"
      ],
      "metadata": {
        "colab": {
          "base_uri": "https://localhost:8080/"
        },
        "id": "rfMNzGDZ7EZD",
        "outputId": "383f113d-8891-4582-c39e-d85b3d52122b"
      },
      "execution_count": 30,
      "outputs": [
        {
          "output_type": "stream",
          "name": "stdout",
          "text": [
            "[0, 1, 2, 3, 4, 5, 6, 7, 8, 9]\n",
            "[0, 1, 20, 30, 5, 6, 7, 8, 9]\n",
            "[0, 1, 20, 30, 5, 8, 9]\n",
            "[0, 1, 20, 11, 5, 22, 9]\n"
          ]
        }
      ]
    },
    {
      "cell_type": "code",
      "source": [
        "#예제23. 가변 시퀀스 변형 오류 예시\n",
        "# l[2:5] = 100\n",
        "\n",
        "#예제24. 올바른 할당문\n",
        "l[2:5] = [100]\n",
        "l"
      ],
      "metadata": {
        "colab": {
          "base_uri": "https://localhost:8080/"
        },
        "id": "Ri65uZcC8Mkt",
        "outputId": "544d4859-572d-4652-9054-844cc614a8eb"
      },
      "execution_count": 31,
      "outputs": [
        {
          "output_type": "execute_result",
          "data": {
            "text/plain": [
              "[0, 1, 100, 22, 9]"
            ]
          },
          "metadata": {},
          "execution_count": 31
        }
      ]
    },
    {
      "cell_type": "code",
      "source": [
        "#예제25. 시퀀스에 덧셈 곱셈 수행\n",
        "l = [1,2,3]\n",
        "print(l * 5)\n",
        "print(5 * 'abcd')"
      ],
      "metadata": {
        "colab": {
          "base_uri": "https://localhost:8080/"
        },
        "id": "lUGWC6aG8a3c",
        "outputId": "905abf6b-14d1-41d8-db38-07f0c899a11c"
      },
      "execution_count": 32,
      "outputs": [
        {
          "output_type": "stream",
          "name": "stdout",
          "text": [
            "[1, 2, 3, 1, 2, 3, 1, 2, 3, 1, 2, 3, 1, 2, 3]\n",
            "abcdabcdabcdabcdabcd\n"
          ]
        }
      ]
    },
    {
      "cell_type": "code",
      "source": [
        "#예제26. 길이가 3인 리스트 3개로 표현한 틱택토 보드\n",
        "borad = [['_'] * 3 for i in range(3)]\n",
        "print(borad)\n",
        "\n",
        "borad[1][2] = 'X'\n",
        "print(borad)"
      ],
      "metadata": {
        "colab": {
          "base_uri": "https://localhost:8080/"
        },
        "id": "sOrLpI2U8gYD",
        "outputId": "6ca99171-9af2-4d70-bdb1-36cb71f2a41e"
      },
      "execution_count": 34,
      "outputs": [
        {
          "output_type": "stream",
          "name": "stdout",
          "text": [
            "[['_', '_', '_'], ['_', '_', '_'], ['_', '_', '_']]\n",
            "[['_', '_', '_'], ['_', '_', 'X'], ['_', '_', '_']]\n"
          ]
        }
      ]
    },
    {
      "cell_type": "code",
      "source": [
        "#예제27. 동일한 리스트에 대한 세 개의 참조를 가진 리스트\n",
        "weird_board = [['_'] * 3] * 3\n",
        "print(weird_board)\n",
        "\n",
        "weird_board[1][2] = 'O'\n",
        "print(weird_board)"
      ],
      "metadata": {
        "colab": {
          "base_uri": "https://localhost:8080/"
        },
        "id": "MT45eMKv8pY_",
        "outputId": "01873672-2a45-4261-9803-90cca48f2137"
      },
      "execution_count": 35,
      "outputs": [
        {
          "output_type": "stream",
          "name": "stdout",
          "text": [
            "[['_', '_', '_'], ['_', '_', '_'], ['_', '_', '_']]\n",
            "[['_', '_', 'O'], ['_', '_', 'O'], ['_', '_', 'O']]\n"
          ]
        }
      ]
    },
    {
      "cell_type": "code",
      "source": [
        "#예제28. 동일한 리스트에 대한 세 개의 참조를 가진 리스트2\n",
        "row = ['_'] * 3\n",
        "board = []\n",
        "for i in range(3):\n",
        "  board.append(row)\n",
        "\n",
        "board[1][2] = 'X'\n",
        "print(board)"
      ],
      "metadata": {
        "colab": {
          "base_uri": "https://localhost:8080/"
        },
        "id": "YKRcspq28rIW",
        "outputId": "1f5c343a-dd26-4ae7-b7ca-b035873552a7"
      },
      "execution_count": 36,
      "outputs": [
        {
          "output_type": "stream",
          "name": "stdout",
          "text": [
            "[['_', '_', 'X'], ['_', '_', 'X'], ['_', '_', 'X']]\n"
          ]
        }
      ]
    },
    {
      "cell_type": "code",
      "source": [
        "#예제29. [예제26]의 지능형 리스트의 다른 표현\n",
        "board = []\n",
        "for i in range(3):\n",
        "  row = ['_'] * 3\n",
        "  board.append(row)\n",
        "\n",
        "print(board)\n",
        "board[1][2] = 'X'\n",
        "print(board)"
      ],
      "metadata": {
        "colab": {
          "base_uri": "https://localhost:8080/"
        },
        "id": "__ZPnNL-88ut",
        "outputId": "c09bcca8-1fca-408f-9fa4-f2382e6625c2"
      },
      "execution_count": 37,
      "outputs": [
        {
          "output_type": "stream",
          "name": "stdout",
          "text": [
            "[['_', '_', '_'], ['_', '_', '_'], ['_', '_', '_']]\n",
            "[['_', '_', '_'], ['_', '_', 'X'], ['_', '_', '_']]\n"
          ]
        }
      ]
    },
    {
      "cell_type": "code",
      "source": [
        "#에제30. 가변 시퀀스의 복합 할당 연산자 곱 결과\n",
        "l = [1,2,3]\n",
        "print(id(l))\n",
        "\n",
        "l *= 2\n",
        "print(l)\n",
        "\n",
        "print(id(l))\n",
        "\n",
        "#에제31. 불변 시퀀스의 복합 할당 연산자 곱 결과\n",
        "\n",
        "t = (1,2,3)\n",
        "print(id(t))\n",
        "\n",
        "t *= 2\n",
        "print(id(t))"
      ],
      "metadata": {
        "colab": {
          "base_uri": "https://localhost:8080/"
        },
        "id": "5iHAogHD9LcD",
        "outputId": "887e9bbd-df00-403d-a62b-02befaaa7b0a"
      },
      "execution_count": 39,
      "outputs": [
        {
          "output_type": "stream",
          "name": "stdout",
          "text": [
            "138816980995328\n",
            "[1, 2, 3, 1, 2, 3]\n",
            "138816980995328\n",
            "138816982911616\n",
            "138816982580192\n"
          ]
        }
      ]
    },
    {
      "cell_type": "code",
      "source": [
        "#예제32 퀴즈\n",
        "\n",
        "t = (1,2, [30,40])\n",
        "print(t)\n",
        "\n",
        "\n",
        "t[2] += [50, 60]"
      ],
      "metadata": {
        "colab": {
          "base_uri": "https://localhost:8080/",
          "height": 233
        },
        "id": "pcpP4iVt-YSl",
        "outputId": "449b779d-2a84-4d13-ab2d-d4140285c904"
      },
      "execution_count": 43,
      "outputs": [
        {
          "output_type": "stream",
          "name": "stdout",
          "text": [
            "(1, 2, [30, 40])\n"
          ]
        },
        {
          "output_type": "error",
          "ename": "TypeError",
          "evalue": "'tuple' object does not support item assignment",
          "traceback": [
            "\u001b[0;31m---------------------------------------------------------------------------\u001b[0m",
            "\u001b[0;31mTypeError\u001b[0m                                 Traceback (most recent call last)",
            "\u001b[0;32m<ipython-input-43-69193c4e8714>\u001b[0m in \u001b[0;36m<cell line: 7>\u001b[0;34m()\u001b[0m\n\u001b[1;32m      5\u001b[0m \u001b[0;34m\u001b[0m\u001b[0m\n\u001b[1;32m      6\u001b[0m \u001b[0;34m\u001b[0m\u001b[0m\n\u001b[0;32m----> 7\u001b[0;31m \u001b[0mt\u001b[0m\u001b[0;34m[\u001b[0m\u001b[0;36m2\u001b[0m\u001b[0;34m]\u001b[0m \u001b[0;34m+=\u001b[0m \u001b[0;34m[\u001b[0m\u001b[0;36m50\u001b[0m\u001b[0;34m,\u001b[0m \u001b[0;36m60\u001b[0m\u001b[0;34m]\u001b[0m\u001b[0;34m\u001b[0m\u001b[0;34m\u001b[0m\u001b[0m\n\u001b[0m",
            "\u001b[0;31mTypeError\u001b[0m: 'tuple' object does not support item assignment"
          ]
        }
      ]
    },
    {
      "cell_type": "code",
      "source": [
        "#예제33. 퀴즈 수행 결과\n",
        "print(t)"
      ],
      "metadata": {
        "colab": {
          "base_uri": "https://localhost:8080/"
        },
        "id": "EpbD8Aok-jsG",
        "outputId": "6b0bbd90-c5ca-401b-aee7-e60cfe0d3839"
      },
      "execution_count": 44,
      "outputs": [
        {
          "output_type": "stream",
          "name": "stdout",
          "text": [
            "(1, 2, [30, 40, 50, 60])\n"
          ]
        }
      ]
    },
    {
      "cell_type": "code",
      "source": [
        "#34. 리스트 정렬: sorted()\n",
        "\n",
        "fruits = ['grape', 'raspberry', 'apple', 'banana']\n",
        "print(sorted(fruits))\n",
        "\n",
        "print(sorted(fruits, reverse=True))\n",
        "\n",
        "print(sorted(fruits, key=len))\n",
        "\n",
        "#예제35. 리스트 정렬: list.sort()\n",
        "print(sorted(fruits, key=len, reverse=True))\n",
        "print(fruits)\n",
        "\n",
        "fruits.sort()\n",
        "print(fruits)"
      ],
      "metadata": {
        "colab": {
          "base_uri": "https://localhost:8080/"
        },
        "id": "8ac549d5-9zN",
        "outputId": "69b67606-d8bd-44b8-c6ec-7b80828868ed"
      },
      "execution_count": 45,
      "outputs": [
        {
          "output_type": "stream",
          "name": "stdout",
          "text": [
            "['apple', 'banana', 'grape', 'raspberry']\n",
            "['raspberry', 'grape', 'banana', 'apple']\n",
            "['grape', 'apple', 'banana', 'raspberry']\n",
            "['raspberry', 'banana', 'grape', 'apple']\n",
            "['grape', 'raspberry', 'apple', 'banana']\n",
            "['apple', 'banana', 'grape', 'raspberry']\n"
          ]
        }
      ]
    },
    {
      "cell_type": "code",
      "source": [
        "#예제36. 커다란 실수 배열의 생성\n",
        "from array import array\n",
        "from random import random\n",
        "\n",
        "floats = array('d', (random() for i in range(10**7)))\n",
        "print(floats[-1])\n",
        "\n",
        "#예제37. 커다란 실수 배열의 저장/로딩\n",
        "with open('floats.bin', 'wb') as f:\n",
        "  floats.tofile(f)\n",
        "\n",
        "floats2 = array('d')\n",
        "\n",
        "with open('floats.bin', 'rb') as f:\n",
        "  floats2.fromfile(f, 10**7)\n",
        "\n",
        "print(floats2[-1])\n",
        "\n",
        "print(floats2 == floats)"
      ],
      "metadata": {
        "colab": {
          "base_uri": "https://localhost:8080/"
        },
        "id": "EdyHP7CS_SwD",
        "outputId": "eb374549-663b-4560-834e-fb1be224d7df"
      },
      "execution_count": 47,
      "outputs": [
        {
          "output_type": "stream",
          "name": "stdout",
          "text": [
            "0.6457591261577905\n",
            "0.6457591261577905\n",
            "True\n"
          ]
        }
      ]
    },
    {
      "cell_type": "code",
      "source": [
        "#에제 38. 배열 항목 값의 바이트 중 하나 변경\n",
        "import array\n",
        "numbers = array.array('h', [-2, -1, 0, 1, 2])\n",
        "memv = memoryview(numbers)\n",
        "print(len(memv))\n",
        "\n",
        "print(memv[0])\n",
        "\n",
        "memv_oct = memv.cast('B')\n",
        "print(memv_oct.tolist())\n",
        "\n",
        "memv_oct[5] = 4\n",
        "print(numbers)"
      ],
      "metadata": {
        "colab": {
          "base_uri": "https://localhost:8080/"
        },
        "id": "PE25Z9s4_a2k",
        "outputId": "da8a0454-c1d9-452e-9d17-d3bfc0a9778a"
      },
      "execution_count": 48,
      "outputs": [
        {
          "output_type": "stream",
          "name": "stdout",
          "text": [
            "5\n",
            "-2\n",
            "[254, 255, 255, 255, 0, 0, 1, 0, 2, 0]\n",
            "array('h', [-2, -1, 1024, 1, 2])\n"
          ]
        }
      ]
    },
    {
      "cell_type": "code",
      "source": [
        "#예제39. numpy.ndarray에서 행과 열을 이용한 기본 연산\n",
        "import numpy\n",
        "a = numpy.arange(12)\n",
        "print(a)\n",
        "\n",
        "print(type(a))\n",
        "\n",
        "#예제40. numpy.ndarray에서 행과 열을 이용한 기본 연산2\n",
        "print(a.shape)\n",
        "\n",
        "a.shape = 3, 4\n",
        "print(a)\n",
        "\n",
        "#예제 41. numpy.ndarray에서 행과 열을 이용한 기본 연산3\n",
        "print(a[2])\n",
        "\n",
        "print(a[2,1])\n",
        "\n",
        "print(a[:, 1])\n",
        "\n",
        "#예제 42. numpy.ndarray에서 행과 열을 이용한 기본 연산4\n",
        "print(a.transpose())"
      ],
      "metadata": {
        "colab": {
          "base_uri": "https://localhost:8080/"
        },
        "id": "ZzYG3UzHARNH",
        "outputId": "a8a80d98-b8cc-4191-b86b-89a60f267243"
      },
      "execution_count": 49,
      "outputs": [
        {
          "output_type": "stream",
          "name": "stdout",
          "text": [
            "[ 0  1  2  3  4  5  6  7  8  9 10 11]\n",
            "<class 'numpy.ndarray'>\n",
            "(12,)\n",
            "[[ 0  1  2  3]\n",
            " [ 4  5  6  7]\n",
            " [ 8  9 10 11]]\n",
            "[ 8  9 10 11]\n",
            "9\n",
            "[1 5 9]\n",
            "[[ 0  4  8]\n",
            " [ 1  5  9]\n",
            " [ 2  6 10]\n",
            " [ 3  7 11]]\n"
          ]
        }
      ]
    },
    {
      "cell_type": "code",
      "source": [
        "#예제 43. 덱 이용하기1\n",
        "\n",
        "from collections import deque\n",
        "dq = deque(range(10), maxlen=10)\n",
        "print(dq)\n",
        "\n",
        "dq.rotate(3)\n",
        "print(dq)\n",
        "\n",
        "dq.rotate(-4)\n",
        "print(dq)\n",
        "\n",
        "#예제 44. 덱 이용하기2\n",
        "dq.appendleft(-1)\n",
        "print(dq)\n",
        "\n",
        "dq.extend([11, 22, 33])\n",
        "print(dq)\n",
        "\n",
        "dq.extendleft([10, 20, 30, 40])\n",
        "print(dq)"
      ],
      "metadata": {
        "colab": {
          "base_uri": "https://localhost:8080/"
        },
        "id": "uJ0rHUf-A4u_",
        "outputId": "c4608807-0f4f-4a73-bf7a-82c799cc9ea9"
      },
      "execution_count": 50,
      "outputs": [
        {
          "output_type": "stream",
          "name": "stdout",
          "text": [
            "deque([0, 1, 2, 3, 4, 5, 6, 7, 8, 9], maxlen=10)\n",
            "deque([7, 8, 9, 0, 1, 2, 3, 4, 5, 6], maxlen=10)\n",
            "deque([1, 2, 3, 4, 5, 6, 7, 8, 9, 0], maxlen=10)\n",
            "deque([-1, 1, 2, 3, 4, 5, 6, 7, 8, 9], maxlen=10)\n",
            "deque([3, 4, 5, 6, 7, 8, 9, 11, 22, 33], maxlen=10)\n",
            "deque([40, 30, 20, 10, 3, 4, 5, 6, 7, 8], maxlen=10)\n"
          ]
        }
      ]
    }
  ]
}