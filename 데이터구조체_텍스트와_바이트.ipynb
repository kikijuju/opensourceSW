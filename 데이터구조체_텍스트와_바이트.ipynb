{
  "cells": [
    {
      "cell_type": "code",
      "source": [
        "#예제1. 인코딩과 디코딩\n",
        "s = 'cafe'\n",
        "len(s)\n"
      ],
      "metadata": {
        "id": "nnngbHhq3HI0",
        "outputId": "589db90c-12c5-4ac1-e45e-ecb78e4b7e83",
        "colab": {
          "base_uri": "https://localhost:8080/"
        }
      },
      "execution_count": 1,
      "outputs": [
        {
          "output_type": "execute_result",
          "data": {
            "text/plain": [
              "4"
            ]
          },
          "metadata": {},
          "execution_count": 1
        }
      ]
    },
    {
      "cell_type": "code",
      "source": [
        "b = s.encode('utf8')\n",
        "b"
      ],
      "metadata": {
        "id": "HLAWJoEO3RGm",
        "outputId": "48838b8c-165f-4c61-a07b-355f33cc743c",
        "colab": {
          "base_uri": "https://localhost:8080/"
        }
      },
      "execution_count": 2,
      "outputs": [
        {
          "output_type": "execute_result",
          "data": {
            "text/plain": [
              "b'cafe'"
            ]
          },
          "metadata": {},
          "execution_count": 2
        }
      ]
    },
    {
      "cell_type": "code",
      "source": [
        "len(b)"
      ],
      "metadata": {
        "id": "L-IyDF_p3UCS",
        "outputId": "2153c155-4e33-4c94-9412-dd29edb4abc8",
        "colab": {
          "base_uri": "https://localhost:8080/"
        }
      },
      "execution_count": 3,
      "outputs": [
        {
          "output_type": "execute_result",
          "data": {
            "text/plain": [
              "4"
            ]
          },
          "metadata": {},
          "execution_count": 3
        }
      ]
    },
    {
      "cell_type": "code",
      "source": [
        "b.decode('utf8')"
      ],
      "metadata": {
        "id": "xl5s3aLt3VBk",
        "outputId": "a197ff0b-5e45-4422-eb0b-5e040cec8b2b",
        "colab": {
          "base_uri": "https://localhost:8080/",
          "height": 36
        }
      },
      "execution_count": 4,
      "outputs": [
        {
          "output_type": "execute_result",
          "data": {
            "text/plain": [
              "'cafe'"
            ],
            "application/vnd.google.colaboratory.intrinsic+json": {
              "type": "string"
            }
          },
          "metadata": {},
          "execution_count": 4
        }
      ]
    },
    {
      "cell_type": "code",
      "source": [
        "# 예제2. bytes와 bytearray로 저장한5바이트시퀀스\n",
        "cafe = bytes('cafe',encoding='utf_8')\n",
        "cafe"
      ],
      "metadata": {
        "id": "oM3u8pHz3WMD",
        "outputId": "691d9b0c-a07f-41dd-963b-a7390a919554",
        "colab": {
          "base_uri": "https://localhost:8080/"
        }
      },
      "execution_count": 5,
      "outputs": [
        {
          "output_type": "execute_result",
          "data": {
            "text/plain": [
              "b'cafe'"
            ]
          },
          "metadata": {},
          "execution_count": 5
        }
      ]
    },
    {
      "cell_type": "code",
      "source": [
        "cafe[0]"
      ],
      "metadata": {
        "id": "LLlxUmwc3fWu",
        "outputId": "62ecdcc6-f160-4c63-b812-fe68b3805a41",
        "colab": {
          "base_uri": "https://localhost:8080/"
        }
      },
      "execution_count": 6,
      "outputs": [
        {
          "output_type": "execute_result",
          "data": {
            "text/plain": [
              "99"
            ]
          },
          "metadata": {},
          "execution_count": 6
        }
      ]
    },
    {
      "cell_type": "code",
      "source": [
        "cafe[:1]"
      ],
      "metadata": {
        "id": "E8kjgn7A3hNS",
        "outputId": "80aeaf2a-5b66-4c32-c72d-8e118d881874",
        "colab": {
          "base_uri": "https://localhost:8080/"
        }
      },
      "execution_count": 7,
      "outputs": [
        {
          "output_type": "execute_result",
          "data": {
            "text/plain": [
              "b'c'"
            ]
          },
          "metadata": {},
          "execution_count": 7
        }
      ]
    },
    {
      "cell_type": "code",
      "source": [
        "cafe_arr = bytearray(cafe)\n",
        "cafe_arr"
      ],
      "metadata": {
        "id": "GPZLGiWS3iWe",
        "outputId": "290b9566-56be-4bc8-b89e-bb5eb74d4df9",
        "colab": {
          "base_uri": "https://localhost:8080/"
        }
      },
      "execution_count": 9,
      "outputs": [
        {
          "output_type": "execute_result",
          "data": {
            "text/plain": [
              "bytearray(b'cafe')"
            ]
          },
          "metadata": {},
          "execution_count": 9
        }
      ]
    },
    {
      "cell_type": "code",
      "source": [
        "cafe_arr[-1:]"
      ],
      "metadata": {
        "id": "KCuaXKTk3lcb",
        "outputId": "f8e1d5ff-01c7-435d-c1c7-e6743aa97a5b",
        "colab": {
          "base_uri": "https://localhost:8080/"
        }
      },
      "execution_count": 10,
      "outputs": [
        {
          "output_type": "execute_result",
          "data": {
            "text/plain": [
              "bytearray(b'e')"
            ]
          },
          "metadata": {},
          "execution_count": 10
        }
      ]
    },
    {
      "cell_type": "code",
      "source": [
        "#예제 3. 16진수 쌍을 파싱해서 이진 시퀀스로 만들기\n",
        "bytes.fromhex('3B 4B CE A9')"
      ],
      "metadata": {
        "id": "LVZQmbEk3oWn",
        "outputId": "c1d996cc-4103-4659-c59b-be29f8c3e1ac",
        "colab": {
          "base_uri": "https://localhost:8080/"
        }
      },
      "execution_count": 11,
      "outputs": [
        {
          "output_type": "execute_result",
          "data": {
            "text/plain": [
              "b';K\\xce\\xa9'"
            ]
          },
          "metadata": {},
          "execution_count": 11
        }
      ]
    },
    {
      "cell_type": "code",
      "source": [
        "# 예제4. 배열의원시데이터에서bytes 초기화하기\n",
        "\n",
        "import array\n",
        "\n",
        "numbers = array.array('h', [-2, -1, 0, 1, 2])\n",
        "numbers"
      ],
      "metadata": {
        "id": "5a9qVkI93yxN",
        "outputId": "97522e6d-ecd3-40dd-ab1d-704922f28d92",
        "colab": {
          "base_uri": "https://localhost:8080/"
        }
      },
      "execution_count": 12,
      "outputs": [
        {
          "output_type": "execute_result",
          "data": {
            "text/plain": [
              "array('h', [-2, -1, 0, 1, 2])"
            ]
          },
          "metadata": {},
          "execution_count": 12
        }
      ]
    },
    {
      "cell_type": "code",
      "source": [
        "octets = bytes(numbers)\n",
        "octets"
      ],
      "metadata": {
        "id": "0VqAPh5l37ft",
        "outputId": "0926f3c2-99e5-4e97-b365-20546c9af6be",
        "colab": {
          "base_uri": "https://localhost:8080/"
        }
      },
      "execution_count": 13,
      "outputs": [
        {
          "output_type": "execute_result",
          "data": {
            "text/plain": [
              "b'\\xfe\\xff\\xff\\xff\\x00\\x00\\x01\\x00\\x02\\x00'"
            ]
          },
          "metadata": {},
          "execution_count": 13
        }
      ]
    },
    {
      "cell_type": "code",
      "source": [
        "#예제5. memoryview와 struct를 사용해서 GIF 이미지 헤더 조사하기\n",
        "\n",
        "import struct\n",
        "\n",
        "fmt = '<3s3sHH'\n",
        "\n",
        "with open('./simpsons.gif', 'rb') as fp:\n",
        "    img = memoryview(fp.read())\n",
        "\n",
        "header = img[:10]\n",
        "bytes(header)"
      ],
      "metadata": {
        "id": "-ZqEWmoC3_zI",
        "outputId": "ae6042d6-7305-4951-828f-089d3c6a67f1",
        "colab": {
          "base_uri": "https://localhost:8080/"
        }
      },
      "execution_count": 20,
      "outputs": [
        {
          "output_type": "execute_result",
          "data": {
            "text/plain": [
              "b'GIF89a\\xf3\\x01k\\x01'"
            ]
          },
          "metadata": {},
          "execution_count": 20
        }
      ]
    },
    {
      "cell_type": "code",
      "source": [
        "struct.unpack(fmt, header)"
      ],
      "metadata": {
        "id": "4WW9ScLq4rie",
        "outputId": "92ac25a0-4bae-4bce-84cf-522ad8a8a2a2",
        "colab": {
          "base_uri": "https://localhost:8080/"
        }
      },
      "execution_count": 21,
      "outputs": [
        {
          "output_type": "execute_result",
          "data": {
            "text/plain": [
              "(b'GIF', b'89a', 499, 363)"
            ]
          },
          "metadata": {},
          "execution_count": 21
        }
      ]
    },
    {
      "cell_type": "code",
      "source": [
        "del header\n",
        "del img"
      ],
      "metadata": {
        "id": "luXw4V_S5G1K"
      },
      "execution_count": 22,
      "outputs": []
    },
    {
      "cell_type": "code",
      "source": [
        "#예제 6. 전혀 다른 바이트 시퀀스를 만드는 세 개의 코덱으로 인코딩한 'EI Niño' 문자열\n",
        "\n",
        "for codec in ['latin1', 'utf8', 'utf16']:\n",
        "    print(codec, 'El Niño'.encode(codec), sep='\\t')"
      ],
      "metadata": {
        "id": "eQLcdkh25IuS",
        "outputId": "d6a45728-d804-4aba-d073-c9244161f8be",
        "colab": {
          "base_uri": "https://localhost:8080/"
        }
      },
      "execution_count": 23,
      "outputs": [
        {
          "output_type": "stream",
          "name": "stdout",
          "text": [
            "latin1\tb'El Ni\\xf1o'\n",
            "utf8\tb'El Ni\\xc3\\xb1o'\n",
            "utf16\tb'\\xff\\xfeE\\x00l\\x00 \\x00N\\x00i\\x00\\xf1\\x00o\\x00'\n"
          ]
        }
      ]
    },
    {
      "cell_type": "code",
      "source": [
        "for codec in ['ascii', 'latin_1', 'cp1252', 'cp437', 'utf_8', 'utf_16le', 'gb2312']:\n",
        "  print(codec, 'A'.encode(codec), sep='\\t')"
      ],
      "metadata": {
        "id": "TM5NxQ_m5tA1",
        "outputId": "998636eb-2d33-466c-d23e-652c7efa0b2b",
        "colab": {
          "base_uri": "https://localhost:8080/"
        }
      },
      "execution_count": 25,
      "outputs": [
        {
          "output_type": "stream",
          "name": "stdout",
          "text": [
            "ascii\tb'A'\n",
            "latin_1\tb'A'\n",
            "cp1252\tb'A'\n",
            "cp437\tb'A'\n",
            "utf_8\tb'A'\n",
            "utf_16le\tb'A\\x00'\n",
            "gb2312\tb'A'\n"
          ]
        }
      ]
    },
    {
      "cell_type": "code",
      "source": [
        "#예제7. 바이트로인코딩하기: 성공및 에러처리\n",
        "city = 'São Paulo'\n",
        "city.encode('utf-8')"
      ],
      "metadata": {
        "id": "w5rYMVMT6BHi",
        "outputId": "c60a543a-e956-4aeb-a28c-ca8b5eaf44fd",
        "colab": {
          "base_uri": "https://localhost:8080/"
        }
      },
      "execution_count": 35,
      "outputs": [
        {
          "output_type": "execute_result",
          "data": {
            "text/plain": [
              "b'S\\xc3\\xa3o Paulo'"
            ]
          },
          "metadata": {},
          "execution_count": 35
        }
      ]
    },
    {
      "cell_type": "code",
      "source": [
        "city.encode('utf_16')"
      ],
      "metadata": {
        "id": "VFCCD5H56NqE",
        "outputId": "0b824703-da77-43e6-a660-3638c7170375",
        "colab": {
          "base_uri": "https://localhost:8080/"
        }
      },
      "execution_count": 36,
      "outputs": [
        {
          "output_type": "execute_result",
          "data": {
            "text/plain": [
              "b'\\xff\\xfeS\\x00\\xe3\\x00o\\x00 \\x00P\\x00a\\x00u\\x00l\\x00o\\x00'"
            ]
          },
          "metadata": {},
          "execution_count": 36
        }
      ]
    },
    {
      "cell_type": "code",
      "source": [
        "city.encode('iso8859_1')"
      ],
      "metadata": {
        "id": "PPX2NqCG6Qf8",
        "outputId": "216b4faf-5777-4e55-8690-3bf104e0403f",
        "colab": {
          "base_uri": "https://localhost:8080/"
        }
      },
      "execution_count": 37,
      "outputs": [
        {
          "output_type": "execute_result",
          "data": {
            "text/plain": [
              "b'S\\xe3o Paulo'"
            ]
          },
          "metadata": {},
          "execution_count": 37
        }
      ]
    },
    {
      "cell_type": "code",
      "source": [
        "city.encode('cp437', errors='ignore')"
      ],
      "metadata": {
        "id": "TEStuVgw6SuV",
        "outputId": "4ffefdb2-bd22-4826-aa66-cf7160570d5a",
        "colab": {
          "base_uri": "https://localhost:8080/"
        }
      },
      "execution_count": 38,
      "outputs": [
        {
          "output_type": "execute_result",
          "data": {
            "text/plain": [
              "b'So Paulo'"
            ]
          },
          "metadata": {},
          "execution_count": 38
        }
      ]
    },
    {
      "cell_type": "code",
      "source": [
        "city.encode('cp437', errors='replace')"
      ],
      "metadata": {
        "id": "LvzpTHYK67Zq",
        "outputId": "65e1dc22-991f-4ceb-e4d7-48642a2a5251",
        "colab": {
          "base_uri": "https://localhost:8080/"
        }
      },
      "execution_count": 39,
      "outputs": [
        {
          "output_type": "execute_result",
          "data": {
            "text/plain": [
              "b'S?o Paulo'"
            ]
          },
          "metadata": {},
          "execution_count": 39
        }
      ]
    },
    {
      "cell_type": "code",
      "source": [
        "city.encode('cp437', errors='xmlcharrefreplace')"
      ],
      "metadata": {
        "id": "agDF4FfI69hW",
        "outputId": "93596a4c-c56b-4e79-f9ba-11aef94e52ce",
        "colab": {
          "base_uri": "https://localhost:8080/"
        }
      },
      "execution_count": 40,
      "outputs": [
        {
          "output_type": "execute_result",
          "data": {
            "text/plain": [
              "b'S&#227;o Paulo'"
            ]
          },
          "metadata": {},
          "execution_count": 40
        }
      ]
    },
    {
      "cell_type": "code",
      "source": [
        "#예제8. str에서bytes로 디코딩하기: 성공및 에러처리\n",
        "octets = b'Montr\\xe9al'\n",
        "octets.decode('cp1252')"
      ],
      "metadata": {
        "id": "EmIkUHRL7CoZ",
        "outputId": "582d9e46-1c69-44ee-b64b-6d5d6ccb66c5",
        "colab": {
          "base_uri": "https://localhost:8080/",
          "height": 36
        }
      },
      "execution_count": 41,
      "outputs": [
        {
          "output_type": "execute_result",
          "data": {
            "text/plain": [
              "'Montréal'"
            ],
            "application/vnd.google.colaboratory.intrinsic+json": {
              "type": "string"
            }
          },
          "metadata": {},
          "execution_count": 41
        }
      ]
    },
    {
      "cell_type": "code",
      "source": [
        "octets.decode('iso8859_7')"
      ],
      "metadata": {
        "id": "I-uIy7ji7HtV",
        "outputId": "6d875cca-f358-4674-a389-5f796382b276",
        "colab": {
          "base_uri": "https://localhost:8080/",
          "height": 36
        }
      },
      "execution_count": 42,
      "outputs": [
        {
          "output_type": "execute_result",
          "data": {
            "text/plain": [
              "'Montrιal'"
            ],
            "application/vnd.google.colaboratory.intrinsic+json": {
              "type": "string"
            }
          },
          "metadata": {},
          "execution_count": 42
        }
      ]
    },
    {
      "cell_type": "code",
      "source": [
        "octets.decode('koi8_r')"
      ],
      "metadata": {
        "id": "63xJevFo7Lau",
        "outputId": "44e355ca-0191-4342-9e98-41d25722cca7",
        "colab": {
          "base_uri": "https://localhost:8080/",
          "height": 36
        }
      },
      "execution_count": 43,
      "outputs": [
        {
          "output_type": "execute_result",
          "data": {
            "text/plain": [
              "'MontrИal'"
            ],
            "application/vnd.google.colaboratory.intrinsic+json": {
              "type": "string"
            }
          },
          "metadata": {},
          "execution_count": 43
        }
      ]
    },
    {
      "cell_type": "code",
      "source": [
        "octets.decode('utf_8')"
      ],
      "metadata": {
        "id": "qeHJaAIg7Mu-",
        "outputId": "a96654d9-b45f-4076-b618-bed906e1b459",
        "colab": {
          "base_uri": "https://localhost:8080/",
          "height": 144
        }
      },
      "execution_count": 45,
      "outputs": [
        {
          "output_type": "error",
          "ename": "UnicodeDecodeError",
          "evalue": "'utf-8' codec can't decode byte 0xe9 in position 5: invalid continuation byte",
          "traceback": [
            "\u001b[0;31m---------------------------------------------------------------------------\u001b[0m",
            "\u001b[0;31mUnicodeDecodeError\u001b[0m                        Traceback (most recent call last)",
            "\u001b[0;32m<ipython-input-45-afaa3d3916c5>\u001b[0m in \u001b[0;36m<cell line: 1>\u001b[0;34m()\u001b[0m\n\u001b[0;32m----> 1\u001b[0;31m \u001b[0moctets\u001b[0m\u001b[0;34m.\u001b[0m\u001b[0mdecode\u001b[0m\u001b[0;34m(\u001b[0m\u001b[0;34m'utf_8'\u001b[0m\u001b[0;34m)\u001b[0m\u001b[0;34m\u001b[0m\u001b[0;34m\u001b[0m\u001b[0m\n\u001b[0m",
            "\u001b[0;31mUnicodeDecodeError\u001b[0m: 'utf-8' codec can't decode byte 0xe9 in position 5: invalid continuation byte"
          ]
        }
      ]
    },
    {
      "cell_type": "code",
      "source": [
        "octets.decode('utf8', errors='replace')"
      ],
      "metadata": {
        "id": "xWboYj827NyH",
        "outputId": "9040be33-ff5c-45ea-f1f0-ee0f56c3756e",
        "colab": {
          "base_uri": "https://localhost:8080/",
          "height": 36
        }
      },
      "execution_count": 46,
      "outputs": [
        {
          "output_type": "execute_result",
          "data": {
            "text/plain": [
              "'Montr�al'"
            ],
            "application/vnd.google.colaboratory.intrinsic+json": {
              "type": "string"
            }
          },
          "metadata": {},
          "execution_count": 46
        }
      ]
    },
    {
      "cell_type": "code",
      "source": [
        "'é'.encode('utf8')"
      ],
      "metadata": {
        "id": "BFYpsDKm7VOt",
        "outputId": "0d956c04-9388-45e9-a77f-49833f2591cb",
        "colab": {
          "base_uri": "https://localhost:8080/"
        }
      },
      "execution_count": 47,
      "outputs": [
        {
          "output_type": "execute_result",
          "data": {
            "text/plain": [
              "b'\\xc3\\xa9'"
            ]
          },
          "metadata": {},
          "execution_count": 47
        }
      ]
    },
    {
      "cell_type": "code",
      "source": [
        "#예제 9. BOM: 깨진 문자\n",
        "u16 = 'El Niño'.encode('utf16')\n",
        "u16"
      ],
      "metadata": {
        "id": "xeYOZTYm7YY2",
        "outputId": "97dcc232-342d-456b-aa32-bdf833c8369c",
        "colab": {
          "base_uri": "https://localhost:8080/"
        }
      },
      "execution_count": 48,
      "outputs": [
        {
          "output_type": "execute_result",
          "data": {
            "text/plain": [
              "b'\\xff\\xfeE\\x00l\\x00 \\x00N\\x00i\\x00\\xf1\\x00o\\x00'"
            ]
          },
          "metadata": {},
          "execution_count": 48
        }
      ]
    },
    {
      "cell_type": "code",
      "source": [
        "list(u16)"
      ],
      "metadata": {
        "id": "a51bEJoN7eXV",
        "outputId": "5eb24020-be2f-4ff7-c1d4-d40f699009f6",
        "colab": {
          "base_uri": "https://localhost:8080/"
        }
      },
      "execution_count": 49,
      "outputs": [
        {
          "output_type": "execute_result",
          "data": {
            "text/plain": [
              "[255, 254, 69, 0, 108, 0, 32, 0, 78, 0, 105, 0, 241, 0, 111, 0]"
            ]
          },
          "metadata": {},
          "execution_count": 49
        }
      ]
    },
    {
      "cell_type": "code",
      "source": [
        "u16le = 'El Niño'.encode('utf_16le')\n",
        "u16le"
      ],
      "metadata": {
        "id": "bmtaEEF47fR9",
        "outputId": "64cfc783-fc03-4b88-f671-f6969f10abeb",
        "colab": {
          "base_uri": "https://localhost:8080/"
        }
      },
      "execution_count": 51,
      "outputs": [
        {
          "output_type": "execute_result",
          "data": {
            "text/plain": [
              "b'E\\x00l\\x00 \\x00N\\x00i\\x00\\xf1\\x00o\\x00'"
            ]
          },
          "metadata": {},
          "execution_count": 51
        }
      ]
    },
    {
      "cell_type": "code",
      "source": [
        "u16le = 'El Niño'.encode('utf_16be')\n",
        "u16le"
      ],
      "metadata": {
        "id": "XqvpWiz67hwQ",
        "outputId": "e428166a-808f-45f0-9148-73d53d63dcaa",
        "colab": {
          "base_uri": "https://localhost:8080/"
        }
      },
      "execution_count": 53,
      "outputs": [
        {
          "output_type": "execute_result",
          "data": {
            "text/plain": [
              "b'\\x00E\\x00l\\x00 \\x00N\\x00i\\x00\\xf1\\x00o'"
            ]
          },
          "metadata": {},
          "execution_count": 53
        }
      ]
    }
  ],
  "metadata": {
    "colab": {
      "name": "Colaboratory에 오신 것을 환영합니다",
      "provenance": []
    },
    "kernelspec": {
      "display_name": "Python 3",
      "name": "python3"
    }
  },
  "nbformat": 4,
  "nbformat_minor": 0
}